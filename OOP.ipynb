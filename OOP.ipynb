{
  "cells": [
    {
      "cell_type": "markdown",
      "metadata": {
        "id": "view-in-github",
        "colab_type": "text"
      },
      "source": [
        "<a href=\"https://colab.research.google.com/github/saeed-5340/OOP-in-python/blob/main/OOP.ipynb\" target=\"_parent\"><img src=\"https://colab.research.google.com/assets/colab-badge.svg\" alt=\"Open In Colab\"/></a>"
      ]
    },
    {
      "cell_type": "markdown",
      "source": [
        "## Class and Objects\n",
        "\n",
        "**class**\n",
        "\n",
        "A class is like a blueprint or template used to create objects. It defines the attributes (data) and methods (functions) that its objects will have. In other words, a class allows you to build multiple objects that share a similar structure and behavior — just like an architect uses a blueprint to construct many houses with the same design.\n",
        "\n",
        "Before learning about objects and classes in detail, it's important to understand the concept of a constructor.\n",
        "\n",
        "A constructor is a special method in Python that is automatically called when a new object of the class is created. Unlike regular methods, you do not need to call it manually — it runs as soon as the object is instantiated.\n",
        "\n",
        "{ Whitout constractor if you want to run other method than you must call these method after createing object}\n",
        "\n",
        "In Python, the constructor method is defined using the following format:\n",
        "\n",
        "`def __init__(self, <attributes>):`\n",
        "\n",
        "+ `__init__` is a built-in method name recognized by Python as the constructor.\n",
        "\n",
        "+ `self` refers to the current object being created.\n",
        "\n",
        "+ `<attributes>` are the parameters passed to initialize the object's data.\n",
        "\n",
        "When defining or accessing attributes inside a class, you must use `self.<attribute_name>` to indicate that the attribute belongs to the current object.\n",
        "\n",
        "\n",
        "**objects**\n",
        "\n",
        "An object is an individual instance of a class. Once you define a class (which acts as a blueprint), you can create multiple objects from it. Each object has its own data (also called state) and can use the methods defined in the class.\n",
        "\n",
        "In simpler terms, if a class is the plan, an object is the actual thing built using that plan.\n",
        "\n",
        "To create an object from a class, use the following syntax (In python):\n",
        "\n",
        "`object_name = ClassName(<attributes>)`\n",
        "\n",
        "+ `ClassName` is the name of the class you're using as a blueprint.\n",
        "\n",
        "+ `<attributes>` are the values passed to the class constructor `(__init__)` when creating the object.\n",
        "\n",
        "+ `object_name` is the variable that stores the reference to the new object.\n",
        "\n",
        "**Note** : You can create multiple objects from a single class, each with its own unique set of data."
      ],
      "metadata": {
        "id": "7vX6IylpX67L"
      }
    },
    {
      "cell_type": "markdown",
      "source": [
        "**Example - 1**"
      ],
      "metadata": {
        "id": "2AZt9gWzj2qQ"
      }
    },
    {
      "cell_type": "code",
      "source": [
        "class Robot:\n",
        "\n",
        "  def __init__(self,robot_number):  # define constructor in python\n",
        "    self.robot_number = robot_number # attributes\n",
        "\n",
        "  def movment(self):  # Methods inside the class\n",
        "    print(f\"It's robot{self.robot_number}\")\n",
        "\n",
        "  def fire_detect(self):\n",
        "    print(f\"It's robot{self.robot_number}\")"
      ],
      "metadata": {
        "id": "L7mdzyfaXO_o"
      },
      "execution_count": null,
      "outputs": []
    },
    {
      "cell_type": "code",
      "source": [
        "# create a object using class\n",
        "robot1 = Robot(robot_number=1)\n",
        "# call movment() method for run\n",
        "robot1.movment()\n",
        "# call fire_detect() method for run\n",
        "robot1.fire_detect()"
      ],
      "metadata": {
        "colab": {
          "base_uri": "https://localhost:8080/"
        },
        "id": "bBvz63tTYPkh",
        "outputId": "d13132b7-addd-49c8-cc77-9dc617ff9e5c"
      },
      "execution_count": null,
      "outputs": [
        {
          "output_type": "stream",
          "name": "stdout",
          "text": [
            "It's robot1\n",
            "It's robot1\n"
          ]
        }
      ]
    },
    {
      "cell_type": "code",
      "source": [
        "robot2 = Robot(robot_number = 2)\n",
        "robot2.movment()\n",
        "robot2.fire_detect()"
      ],
      "metadata": {
        "colab": {
          "base_uri": "https://localhost:8080/"
        },
        "id": "4QkZBN_5cpwN",
        "outputId": "6fb2a1f6-3443-4cc0-8484-a3d38514d9bc"
      },
      "execution_count": null,
      "outputs": [
        {
          "output_type": "stream",
          "name": "stdout",
          "text": [
            "It's robot2\n",
            "It's robot2\n"
          ]
        }
      ]
    },
    {
      "cell_type": "markdown",
      "source": [
        "**Example - 2**"
      ],
      "metadata": {
        "id": "pdng6fyhj9AT"
      }
    },
    {
      "cell_type": "code",
      "source": [
        "import numpy as np\n",
        "\n",
        "class shape:\n",
        "  def __init__(self,L=0,W=0,R=0,H=0):\n",
        "    self.L = L\n",
        "    self.W = W\n",
        "    self.R = R\n",
        "    self.H = H\n",
        "\n",
        "  def rec(self):\n",
        "    return self.L * self.W\n",
        "\n",
        "  def circle(self):\n",
        "    return np.pi*(self.R*self.R)\n",
        "\n",
        "  def square(self):\n",
        "    return self.L*self.L"
      ],
      "metadata": {
        "id": "MYl8N8RrfLwE"
      },
      "execution_count": null,
      "outputs": []
    },
    {
      "cell_type": "code",
      "source": [
        "recangle = shape(L = 6,W = 4,R = 0, H = 0)\n",
        "print(recangle.rec())\n",
        "circle = shape(R=3)\n",
        "print(circle.circle())"
      ],
      "metadata": {
        "colab": {
          "base_uri": "https://localhost:8080/"
        },
        "id": "pMQfdZqJfeP3",
        "outputId": "a710c78c-76c3-4f90-be7c-500c595ecb13"
      },
      "execution_count": null,
      "outputs": [
        {
          "output_type": "stream",
          "name": "stdout",
          "text": [
            "24\n",
            "28.274333882308138\n"
          ]
        }
      ]
    },
    {
      "cell_type": "markdown",
      "source": [
        "**Let's try to build a small project of atm machine only using class and object.**\n",
        "First make a class diagram:\n",
        "\n",
        "----------------------------------------------\n",
        "|              AtmMachine (class name)       |\n",
        "----------------------------------------------\n",
        "|     (Attributes or data_property)          |\n",
        "|                pin                         |\n",
        "|                balance                     |\n",
        "|                                            |\n",
        "----------------------------------------------\n",
        "|       (methods or functional_property)     |\n",
        "|             create pin()                   |\n",
        "|             change pin()                   |\n",
        "|             cheak balance()                |\n",
        "|             withdrewe()                    |\n",
        "|             exit()                         |\n",
        "|--------------------------------------------|\n"
      ],
      "metadata": {
        "id": "cZZhVi9XpKGK"
      }
    },
    {
      "cell_type": "code",
      "source": [
        "class AtmMachine:\n",
        "\n",
        "  # This is a spectial type function it can execute automatically without calling this function\n",
        "  def __init__(self):\n",
        "    self.pin = \"\"\n",
        "    self.balance = 0\n",
        "    # print(\"I'm Constractor\")\n",
        "    self.menu()\n",
        "\n",
        "  def menu(self):\n",
        "    user_input = input(\n",
        "        \"\"\"\n",
        "        Hi how can I help you ?\n",
        "        1. press 1 to create pin\n",
        "        2. press 2 to change pin\n",
        "        3. press 3 to cheak balance\n",
        "        4. press 4 to withdrewe\n",
        "        5. perss 5 to exit\n",
        "\n",
        "        \"\"\"\n",
        "    )\n",
        "\n",
        "    if user_input == \"1\":\n",
        "      self.create_pin()\n",
        "      #create pin\n",
        "      pass\n",
        "    elif user_input ==\"2\":\n",
        "      self.change_pin()\n",
        "      #change pin\n",
        "      pass\n",
        "    elif user_input == \"3\":\n",
        "      self.cheak_balance()\n",
        "      #cheak balance\n",
        "      pass\n",
        "    elif user_input ==\"4\":\n",
        "      self.withdrewe()\n",
        "      # withdrewe\n",
        "      pass\n",
        "    else:\n",
        "      exit()\n",
        "\n",
        "  def create_pin(self):\n",
        "    user_pin = int(input(\"Enter your pin : \"))\n",
        "    self.pin = user_pin\n",
        "\n",
        "    user_balance = int(input(\"Enter your balance : \"))\n",
        "    self.__balance = user_balance\n",
        "    print(\"Pin created successfully\")\n",
        "    self.menu()\n",
        "\n",
        "  def change_pin(self):\n",
        "    old_pin = int(input(\"Enter your old pin : \"))\n",
        "    if old_pin == self.pin:\n",
        "      while(1):\n",
        "        new_pin = int(input(\"Enter your new pin : \"))\n",
        "        if(new_pin == old_pin):\n",
        "          print(\"New pin isn't be same as old pin,Try again!\")\n",
        "          continue\n",
        "        else:\n",
        "          break\n",
        "      self.pin = new_pin\n",
        "      print(\"Pin Changed Successfully\")\n",
        "    else:\n",
        "      print(\"Worng Pin\")\n",
        "    self.menu()\n",
        "  def cheak_balance(self):\n",
        "    user_pin = int(input(\"Enter your pin : \"))\n",
        "    if user_pin == self.pin:\n",
        "      print(f\"your current balance is {self.balance}\")\n",
        "    else :\n",
        "      print(\"Worng Pin\")\n",
        "    self.menu()\n",
        "  def withdrewe(self):\n",
        "    user_pin = int(input(\"Enter your pin : \"))\n",
        "    if user_pin == self.pin:\n",
        "      amount = int(input(\"Enter your amount : \"))\n",
        "      if amount<= self.balance:\n",
        "        print(\"Transaction is processing\")\n",
        "        self.balance = self.balance - amount\n",
        "        print(\"Transaction is successful\")\n",
        "        print(f\"Your current balance is {self.balance}\")\n",
        "      else :\n",
        "        print(\"Insufficient balance\")\n",
        "    else:\n",
        "      print(\"Wrong Pin\")\n",
        "    self.menu()\n"
      ],
      "metadata": {
        "id": "7Srl83etiPNg"
      },
      "execution_count": null,
      "outputs": []
    },
    {
      "cell_type": "code",
      "source": [
        "c1 = AtmMachine()"
      ],
      "metadata": {
        "colab": {
          "base_uri": "https://localhost:8080/"
        },
        "id": "ofChn0EL5AfT",
        "outputId": "57e35ff0-44fd-4c94-8104-906f02266012"
      },
      "execution_count": null,
      "outputs": [
        {
          "name": "stdout",
          "output_type": "stream",
          "text": [
            "\n",
            "        Hi how can I help you ?\n",
            "        1. press 1 to create pin\n",
            "        2. press 2 to change pin\n",
            "        3. press 3 to cheak balance\n",
            "        4. press 4 to withdrewe\n",
            "        5. perss 5 to exit\n",
            "\n",
            "        5\n"
          ]
        }
      ]
    },
    {
      "cell_type": "code",
      "source": [
        "c2 = AtmMachine()"
      ],
      "metadata": {
        "colab": {
          "base_uri": "https://localhost:8080/"
        },
        "id": "Z9JB16vZ5PCY",
        "outputId": "a7a7a3ec-85ef-41e9-d2d1-cdfd8c3bc219"
      },
      "execution_count": null,
      "outputs": [
        {
          "name": "stdout",
          "output_type": "stream",
          "text": [
            "\n",
            "        Hi how can I help you ?\n",
            "        1. press 1 to create pin\n",
            "        2. press 2 to change pin\n",
            "        3. press 3 to cheak balance\n",
            "        4. press 4 to withdrewe\n",
            "        5. perss 5 to exit\n",
            "\n",
            "        5\n"
          ]
        }
      ]
    },
    {
      "cell_type": "code",
      "source": [
        "c3 = AtmMachine()"
      ],
      "metadata": {
        "colab": {
          "base_uri": "https://localhost:8080/"
        },
        "id": "Jnxs7MxO5O6C",
        "outputId": "bf93ca8a-f6c0-458d-8f1c-d953641013e1"
      },
      "execution_count": null,
      "outputs": [
        {
          "name": "stdout",
          "output_type": "stream",
          "text": [
            "\n",
            "        Hi how can I help you ?\n",
            "        1. press 1 to create pin\n",
            "        2. press 2 to change pin\n",
            "        3. press 3 to cheak balance\n",
            "        4. press 4 to withdrewe\n",
            "        5. perss 5 to exit\n",
            "\n",
            "        5\n"
          ]
        }
      ]
    },
    {
      "cell_type": "code",
      "source": [
        "# atm = AtmMachine()\n",
        "# print(id(atm))\n",
        "# atm2 = AtmMachine()\n",
        "# print(id(atm2))"
      ],
      "metadata": {
        "id": "aC79BZMIrL9f"
      },
      "execution_count": null,
      "outputs": []
    },
    {
      "cell_type": "markdown",
      "source": [
        "### Some small concepts in OOP:\n"
      ],
      "metadata": {
        "id": "_XKpx17UuqPT"
      }
    },
    {
      "cell_type": "markdown",
      "source": [
        "+ Magic method/Dunder method:\n",
        "\n",
        "    Magic methods, also called dunder (double underscore) methods, are special methods in Python with double underscores at the beginning and end (like `__init__`, `__str__`,` __len__`, etc.). They are automatically invoked by Python in specific situations."
      ],
      "metadata": {
        "id": "zkl2QPOOu6UB"
      }
    },
    {
      "cell_type": "markdown",
      "source": [
        "+ concept of `self` in OOP:\n",
        "\n",
        "    In Python, `self` is not a keyword, but it's a strong convention used to refer to the current instance of a class. When you create an object from a class, self represents that specific object and allows you to access its attributes and methods.\n",
        "\n",
        "     Why Use `self`?\n",
        "\n",
        "    => To refer to the object’s own properties and methods.\n",
        "\n",
        "    => To differentiate between instance variables and local variables.\n",
        "\n",
        "    => Required as the first parameter of any instance method."
      ],
      "metadata": {
        "id": "NznT15A5vJd6"
      }
    },
    {
      "cell_type": "code",
      "source": [
        "class people:\n",
        "  def __init__(self,name,age):\n",
        "    self.name = name\n",
        "    self.age = age\n",
        "    print(id(self)) # For every object id(self) and object id is same."
      ],
      "metadata": {
        "id": "8SYReqAtTlqI"
      },
      "execution_count": null,
      "outputs": []
    },
    {
      "cell_type": "code",
      "source": [
        "p1 = people(\"Saeed\",24)\n",
        "print(id(p1))\n",
        "\n",
        "p2 = people(\"Sabbir\",26)\n",
        "print(id(p2))"
      ],
      "metadata": {
        "colab": {
          "base_uri": "https://localhost:8080/"
        },
        "id": "WG5Xb-HpT02t",
        "outputId": "d87e6a1a-d4d8-44c3-e7ca-0ac271a1fd51"
      },
      "execution_count": null,
      "outputs": [
        {
          "output_type": "stream",
          "name": "stdout",
          "text": [
            "139531697211024\n",
            "139531697211024\n",
            "139531261532560\n",
            "139531261532560\n"
          ]
        }
      ]
    },
    {
      "cell_type": "markdown",
      "source": [
        "+ How object access attribute in OOP:\n",
        "\n",
        "    When you create an object from a class, the object stores its own data (attributes). Python uses the `self` keyword inside class methods to refer to these attributes. Outside the class, you use dot notation to access them.\n"
      ],
      "metadata": {
        "id": "NvUDpteuvPCP"
      }
    },
    {
      "cell_type": "markdown",
      "source": [
        "Attribute access insde class"
      ],
      "metadata": {
        "id": "uA9Jhv2_gOUS"
      }
    },
    {
      "cell_type": "code",
      "source": [
        "class Car:\n",
        "    def __init__(self, name):\n",
        "        self.name = name  # instance attribute\n",
        "\n",
        "    def information(self):\n",
        "        print(\"name:\", self.name)  # accessing with self\n"
      ],
      "metadata": {
        "id": "O8nGPCsjgJTv"
      },
      "execution_count": null,
      "outputs": []
    },
    {
      "cell_type": "markdown",
      "source": [
        "Attribute access outside the Class — use (object.attribute)"
      ],
      "metadata": {
        "id": "cuat3JRshn05"
      }
    },
    {
      "cell_type": "code",
      "source": [
        "obj = Car(\"Saeed\")\n",
        "obj.information()"
      ],
      "metadata": {
        "colab": {
          "base_uri": "https://localhost:8080/"
        },
        "id": "Y-esSsoPgEuF",
        "outputId": "31220ee6-d188-4f65-cd16-431569a2cc71"
      },
      "execution_count": null,
      "outputs": [
        {
          "output_type": "stream",
          "name": "stdout",
          "text": [
            "name: Saeed\n"
          ]
        }
      ]
    },
    {
      "cell_type": "markdown",
      "source": [
        "We can create attribute from outside of class ----> object.attribute = integer/char/str etc."
      ],
      "metadata": {
        "id": "bbt60R7ch-nR"
      }
    },
    {
      "cell_type": "code",
      "source": [
        "obj.age = 24\n",
        "print(obj.age)"
      ],
      "metadata": {
        "colab": {
          "base_uri": "https://localhost:8080/"
        },
        "id": "perinFxNioOE",
        "outputId": "7028a9d0-2db8-4687-c241-004fccbb9b7e"
      },
      "execution_count": null,
      "outputs": [
        {
          "output_type": "stream",
          "name": "stdout",
          "text": [
            "24\n"
          ]
        }
      ]
    },
    {
      "cell_type": "markdown",
      "source": [
        "+ Referance variable in OOP:\n",
        "\n",
        "    In Python, a reference variable is a name that refers to (or points to) an object in memory. You don’t store objects directly in variables—variables hold references (or addresses) to the actual object.\n",
        "\n",
        "    In OOP, when you create an object, the variable doesn’t hold the object itself — it holds a reference (a pointer) to where that object is stored in memory.\n",
        "\n"
      ],
      "metadata": {
        "id": "jnXdKfb7vXCq"
      }
    },
    {
      "cell_type": "code",
      "source": [
        "class people:\n",
        "  def __init__(self):\n",
        "      self.name = \"Saeed\"\n",
        "      self.country = \"Bangladesh\"\n",
        "      print(id(self))"
      ],
      "metadata": {
        "id": "gpzYVfPAlw1V"
      },
      "execution_count": null,
      "outputs": []
    },
    {
      "cell_type": "code",
      "source": [
        "p  = people()  # p is reference variable\n",
        "print(id(p))\n",
        "q = p          # q points to the same object as p\n",
        "id(q)\n",
        "\n",
        "\n",
        "print(p.name)\n",
        "print(q.name)"
      ],
      "metadata": {
        "colab": {
          "base_uri": "https://localhost:8080/"
        },
        "id": "O2vZRcVYlwvV",
        "outputId": "20827e81-88fe-4123-d1e6-1d2dac29e861"
      },
      "execution_count": null,
      "outputs": [
        {
          "output_type": "stream",
          "name": "stdout",
          "text": [
            "136141011755088\n",
            "136141011755088\n",
            "Saeed\n",
            "Saeed\n"
          ]
        }
      ]
    },
    {
      "cell_type": "markdown",
      "source": [
        "+ Pass by referance\n",
        "\n",
        "    In Python, arguments are passed to functions by object reference — commonly described as:\n",
        "\n",
        "    \"Pass by Object Reference\" or \"Pass by Assignment\"\n",
        "\n",
        "    This means:\n",
        "\n",
        "    The reference (memory address) of the object is passed to the function.\n",
        "\n",
        "    So if the object is mutable (like a list or a dictionary), changes inside the function affect the original object.\n",
        "\n",
        "    If the object is immutable (like int, str, tuple), the original value does not change."
      ],
      "metadata": {
        "id": "SvM-ULM6vcn7"
      }
    },
    {
      "cell_type": "code",
      "source": [
        "class person:\n",
        "    def __init__(self,name,country):\n",
        "      self.name = name\n",
        "      self.country = country\n",
        "\n",
        "\n",
        "def salam(ok):\n",
        "  print(f\"My name is {ok.name} and my country is {ok.country}\")\n",
        "  p = person(\"Sabbir\",\"Bangladesh\")\n",
        "  return p"
      ],
      "metadata": {
        "id": "ZWwlf8BonQx-"
      },
      "execution_count": null,
      "outputs": []
    },
    {
      "cell_type": "code",
      "source": [
        "p1 = person(\"Saeed\",\"Bangladesh\")\n",
        "a = salam(p1)\n",
        "a.name"
      ],
      "metadata": {
        "colab": {
          "base_uri": "https://localhost:8080/",
          "height": 53
        },
        "id": "czfqAeHlnZNt",
        "outputId": "9a81092f-0169-43a1-f416-e02c4dc47c31"
      },
      "execution_count": null,
      "outputs": [
        {
          "output_type": "stream",
          "name": "stdout",
          "text": [
            "My name is Saeed and my country is Bangladesh\n"
          ]
        },
        {
          "output_type": "execute_result",
          "data": {
            "text/plain": [
              "'Sabbir'"
            ],
            "application/vnd.google.colaboratory.intrinsic+json": {
              "type": "string"
            }
          },
          "metadata": {},
          "execution_count": 17
        }
      ]
    },
    {
      "cell_type": "markdown",
      "source": [
        "+ Mutability of object in OOP:\n",
        "\n",
        "    Mutability refers to whether or not an object can be changed after it is created.\n",
        "\n",
        "    Mutable\t- Object’s state can be changed after creation\n",
        "    Immutable\t- Object’s state cannot be changed after creation"
      ],
      "metadata": {
        "id": "9sV3gX6uvhCp"
      }
    },
    {
      "cell_type": "code",
      "source": [
        "# Define a class named 'person' with two attributes: name and age\n",
        "class person:\n",
        "    def __init__(self, name, age):\n",
        "        # Initialize instance variables using the constructor\n",
        "        self.name = name\n",
        "        self.age = age\n",
        "\n",
        "# Define a function that modifies the attributes of a person object\n",
        "def new(ok):\n",
        "    # Modify the name and age attributes of the object passed by reference\n",
        "    ok.name = \"Sabbir\"\n",
        "    ok.age = 26\n",
        "    # Return the modified object\n",
        "    return ok"
      ],
      "metadata": {
        "id": "xfRD8bVVo5x_"
      },
      "execution_count": null,
      "outputs": []
    },
    {
      "cell_type": "code",
      "source": [
        "# Create an object of class 'person'\n",
        "obj = person(\"Saeed\", 24)\n",
        "\n",
        "# Print initial attribute values\n",
        "print(obj.name)  # Output: Saeed\n",
        "print(obj.age)   # Output: 24\n",
        "\n",
        "# Call the function and pass the object; this will modify the object in-place\n",
        "obj1 = new(obj)\n",
        "\n",
        "# Print updated attribute values after modification\n",
        "print(obj1.name)  # Output: Sabbir\n",
        "print(obj1.age)   # Output: 26"
      ],
      "metadata": {
        "colab": {
          "base_uri": "https://localhost:8080/"
        },
        "id": "78YtwzDeo5g_",
        "outputId": "0cb4cdfe-7e96-4cd5-f809-5ed7ddf32c67"
      },
      "execution_count": null,
      "outputs": [
        {
          "output_type": "stream",
          "name": "stdout",
          "text": [
            "Saeed\n",
            "24\n",
            "Sabbir\n",
            "26\n"
          ]
        }
      ]
    },
    {
      "cell_type": "markdown",
      "source": [
        "+ What is instance variable:\n",
        "\n",
        "    An instance variable is a variable that is defined inside a class but specifically within the constructor `(__init__)` or other instance methods, and is bound to the object (instance) of the class.\n",
        "\n",
        "    In simple terms:\n",
        "\n",
        "    An instance variable stores data that is unique for each object created from a class."
      ],
      "metadata": {
        "id": "2aRMfb73vnLE"
      }
    },
    {
      "cell_type": "code",
      "source": [
        "# Define a class named 'person'\n",
        "class person:\n",
        "    def __init__(self, name, country):\n",
        "        # These are instance variables — each object will have its own copy\n",
        "        self.name = name\n",
        "        self.country = country\n",
        "        # print(id(self))  # Uncomment to see the memory address of each instance\n",
        "\n",
        "# ✅ Instance variables:\n",
        "# These variables (self.name, self.country) are tied to a specific object.\n",
        "# Each object (p1, p2, p3) stores its own data separately.\n",
        "\n",
        "# Create three instances (objects) of the 'person' class\n",
        "p1 = person(\"Saeed\", \"Bangladesh\")\n",
        "p2 = person(\"Sabbir\", \"Bangladesh\")\n",
        "p3 = person(\"Rahat\", \"Bangladesh\")\n",
        "\n",
        "# Print the memory addresses (IDs) of each object to show they are separate instances\n",
        "print(id(p1), id(p2), id(p3))\n"
      ],
      "metadata": {
        "colab": {
          "base_uri": "https://localhost:8080/"
        },
        "id": "COuKkjJUuzjl",
        "outputId": "34f80ebe-2ae4-43a7-ed51-a56ee027d6d0"
      },
      "execution_count": null,
      "outputs": [
        {
          "output_type": "stream",
          "name": "stdout",
          "text": [
            "136140628022480 136140623792144 136140623796304\n"
          ]
        }
      ]
    },
    {
      "cell_type": "code",
      "source": [],
      "metadata": {
        "id": "uL589c-5uzcK"
      },
      "execution_count": null,
      "outputs": []
    },
    {
      "cell_type": "code",
      "source": [
        "class person:\n",
        "  def __init__(self,name,country):\n",
        "    self.name = name\n",
        "    self.country = country\n",
        "\n",
        "  def salam(self):\n",
        "    if(self.age == 24):\n",
        "      print(f\"Salam {self.name}\")\n",
        "    else:\n",
        "      print(f\"Hello {self.name}\")"
      ],
      "metadata": {
        "id": "ZaA_0Ay4rXWd"
      },
      "execution_count": null,
      "outputs": []
    },
    {
      "cell_type": "code",
      "source": [
        "obj = person(\"Saeed\",\"Bangladesh\")\n",
        "obj.age = 24\n",
        "obj.salam()"
      ],
      "metadata": {
        "id": "gw30XQNBOG90"
      },
      "execution_count": null,
      "outputs": []
    },
    {
      "cell_type": "code",
      "source": [
        "class Atm:\n",
        "\n",
        "  # This is a spectial type function it can execute automatically without calling this function\n",
        "\n",
        "  def __init__(self):\n",
        "    # print(id(self))\n",
        "    self.pin = \"\"\n",
        "    self.__balance = 0\n",
        "    # print(\"I'm Constractor\")\n",
        "    # self.menu()\n",
        "\n",
        "  def __menu(self):\n",
        "    user_input = input(\n",
        "        \"\"\"\n",
        "        Hi how can I help you ?\n",
        "        1. press 1 to create pin\n",
        "        2. press 2 to change pin\n",
        "        3. press 3 to cheak balance\n",
        "        4. press 4 to withdrewe\n",
        "        5. perss 5 to exit\n",
        "\n",
        "        \"\"\"\n",
        "    )\n",
        "\n",
        "    if user_input == \"1\":\n",
        "      self.create_pin()\n",
        "      #create pin\n",
        "      pass\n",
        "    elif user_input ==\"2\":\n",
        "      self.change_pin()\n",
        "      #change pin\n",
        "      pass\n",
        "    elif user_input == \"3\":\n",
        "      self.cheak_balance()\n",
        "      #cheak balance\n",
        "      pass\n",
        "    elif user_input ==\"4\":\n",
        "      self.withdrewe()\n",
        "      # withdrewe\n",
        "      pass\n",
        "    else:\n",
        "      exit()\n",
        "\n",
        "  def create_pin(self):\n",
        "    user_pin = int(input(\"Enter your pin : \"))\n",
        "    self.pin = user_pin\n",
        "\n",
        "    user_balance = int(input(\"Enter your balance : \"))\n",
        "    self.__balance = user_balance\n",
        "    print(\"Pin created successfully\")\n",
        "    # self.menu()\n",
        "\n",
        "  def change_pin(self):\n",
        "    old_pin = int(input(\"Enter your old pin : \"))\n",
        "    if old_pin == self.pin:\n",
        "      while(1):\n",
        "        new_pin = int(input(\"Enter your new pin : \"))\n",
        "        if(new_pin == old_pin):\n",
        "          print(\"New pin can't be same as old pin,Try again!\")\n",
        "          continue\n",
        "        else:\n",
        "          break\n",
        "      self.pin = new_pin\n",
        "      print(\"Pin Changed Successfully\")\n",
        "    else:\n",
        "      print(\"Worng Pin\")\n",
        "    # self.menu()\n",
        "  def cheak_balance(self):\n",
        "    user_pin = int(input(\"Enter your pin : \"))\n",
        "    if user_pin == self.pin:\n",
        "      print(f\"your current balance is {self.__balance}\")\n",
        "    else :\n",
        "      print(\"Worng Pin\")\n",
        "    # self.menu()\n",
        "  def withdrewe(self):\n",
        "    user_pin = int(input(\"Enter your pin : \"))\n",
        "    if user_pin == self.pin:\n",
        "      amount = int(input(\"Enter your amount : \"))\n",
        "      if amount<= self.__balance:\n",
        "        print(\"Transaction is processing\")\n",
        "        self.__balance = self.__balance - amount\n",
        "        print(\"Transaction is successful\")\n",
        "        print(f\"Your current balance is {self.__balance}\")\n",
        "      else :\n",
        "        print(\"Insufficient balance\")\n",
        "    else:\n",
        "      print(\"Wrong Pint\")\n",
        "    # self.menu()\n",
        "\n"
      ],
      "metadata": {
        "id": "M7gWQVRWZgn7"
      },
      "execution_count": null,
      "outputs": []
    },
    {
      "cell_type": "code",
      "source": [
        "obj =Atm()"
      ],
      "metadata": {
        "id": "6Wg4KPcIes2y"
      },
      "execution_count": null,
      "outputs": []
    },
    {
      "cell_type": "code",
      "source": [
        "obj.create_pin()"
      ],
      "metadata": {
        "id": "6WfnhFTQmuzV"
      },
      "execution_count": null,
      "outputs": []
    },
    {
      "cell_type": "code",
      "source": [
        "obj.__balance = \"Hello\""
      ],
      "metadata": {
        "id": "rI_5Z4zPm5Wj"
      },
      "execution_count": null,
      "outputs": []
    },
    {
      "cell_type": "code",
      "source": [
        "obj.cheak_balance()"
      ],
      "metadata": {
        "id": "n4qBR6sCm_-L"
      },
      "execution_count": null,
      "outputs": []
    },
    {
      "cell_type": "code",
      "source": [
        "obj._Atm__balance"
      ],
      "metadata": {
        "id": "BMfN_PPenEhq"
      },
      "execution_count": null,
      "outputs": []
    },
    {
      "cell_type": "code",
      "source": [
        "# In python nothing is to private\n",
        "\n",
        "obj._Atm__balance = \"Hello\""
      ],
      "metadata": {
        "id": "kUNcdGc7q7h_"
      },
      "execution_count": null,
      "outputs": []
    },
    {
      "cell_type": "code",
      "source": [
        "obj.cheak_balance()"
      ],
      "metadata": {
        "id": "6Wz9yvqSrKwf"
      },
      "execution_count": null,
      "outputs": []
    },
    {
      "cell_type": "code",
      "source": [
        " # Use pascelcase for writing class name like:\n",
        "# Atm maachine ---> AtmMachine\n",
        "\n",
        "class AtmMachine:\n",
        "\n",
        "  #Static Variable\n",
        "  __customer_id = 0\n",
        "\n",
        "  # This is a spectial type function it can execute automatically without calling this function\n",
        "\n",
        "  def __init__(self):\n",
        "    # print(id(self))\n",
        "    self.pin = \"\"\n",
        "    self.balance = 0\n",
        "    self.customer_id = AtmMachine.__customer_id\n",
        "    AtmMachine.__customer_id += 1\n",
        "    # print(self.customer_id)\n",
        "    # print(AtmMachine.__customer_id)\n",
        "    # print(\"I'm Constractor\")\n",
        "    # self.menu()\n",
        "\n",
        "  @staticmethod\n",
        "  def get_customer_id():\n",
        "    return AtmMachine.__customer_id\n",
        "\n",
        "  def menu(self):\n",
        "    user_input = input(\n",
        "        \"\"\"\n",
        "        Hi how can I help you ?\n",
        "        1. press 1 to create pin\n",
        "        2. press 2 to change pin\n",
        "        3. press 3 to cheak balance\n",
        "        4. press 4 to withdrewe\n",
        "        5. perss 5 to exit\n",
        "\n",
        "        \"\"\"\n",
        "    )\n",
        "\n",
        "    if user_input == \"1\":\n",
        "      self.create_pin()\n",
        "      #create pin\n",
        "      pass\n",
        "    elif user_input ==\"2\":\n",
        "      self.change_pin()\n",
        "      #change pin\n",
        "      pass\n",
        "    elif user_input == \"3\":\n",
        "      self.cheak_balance()\n",
        "      #cheak balance\n",
        "      pass\n",
        "    elif user_input ==\"4\":\n",
        "      self.withdrewe()\n",
        "      # withdrewe\n",
        "      pass\n",
        "    else:\n",
        "      exit()\n",
        "\n",
        "  def create_pin(self):\n",
        "    user_pin = int(input(\"Enter your pin : \"))\n",
        "    self.pin = user_pin\n",
        "\n",
        "    user_balance = int(input(\"Enter your balance : \"))\n",
        "    self.balance = user_balance\n",
        "    print(\"Pin created successfully\")\n",
        "    self.menu()\n",
        "\n",
        "  def change_pin(self):\n",
        "    old_pin = int(input(\"Enter your old pin : \"))\n",
        "    if old_pin == self.pin:\n",
        "      while(1):\n",
        "        new_pin = int(input(\"Enter your new pin : \"))\n",
        "        if(new_pin == old_pin):\n",
        "          print(\"New pin can't be same as old pin,Try again!\")\n",
        "          continue\n",
        "        else:\n",
        "          break\n",
        "      self.pin = new_pin\n",
        "      print(\"Pin Changed Successfully\")\n",
        "    else:\n",
        "      print(\"Worng Pin\")\n",
        "    self.menu()\n",
        "  def cheak_balance(self):\n",
        "    user_pin = int(input(\"Enter your pin : \"))\n",
        "    if user_pin == self.pin:\n",
        "      print(f\"your current balance is {self.balance}\")\n",
        "    else :\n",
        "      print(\"Worng Pin\")\n",
        "    self.menu()\n",
        "  def withdrewe(self):\n",
        "    user_pin = int(input(\"Enter your pin : \"))\n",
        "    if user_pin == self.pin:\n",
        "      amount = int(input(\"Enter your amount : \"))\n",
        "      if amount<= self.balance:\n",
        "        print(\"Transaction is processing\")\n",
        "        self.balance = self.balance - amount\n",
        "        print(\"Transaction is successful\")\n",
        "        print(f\"Your current balance is {self.balance}\")\n",
        "      else :\n",
        "        print(\"Insufficient balance\")\n",
        "    else:\n",
        "      print(\"Wrong Pint\")\n",
        "    self.menu()\n",
        "\n",
        "\n"
      ],
      "metadata": {
        "id": "xXLtBlePrON2"
      },
      "execution_count": null,
      "outputs": []
    },
    {
      "cell_type": "code",
      "source": [
        "obj = Atm()"
      ],
      "metadata": {
        "id": "HlOwEX54uX12"
      },
      "execution_count": null,
      "outputs": []
    },
    {
      "cell_type": "code",
      "source": [
        "obj.create_pin()"
      ],
      "metadata": {
        "id": "pZLz3CPRucgz"
      },
      "execution_count": null,
      "outputs": []
    },
    {
      "cell_type": "code",
      "source": [
        "obj.cheak_balance()"
      ],
      "metadata": {
        "id": "5agUDIcZufnd"
      },
      "execution_count": null,
      "outputs": []
    },
    {
      "cell_type": "code",
      "source": [
        "obj.get_balance()"
      ],
      "metadata": {
        "id": "Vt8W8HGuujdu"
      },
      "execution_count": null,
      "outputs": []
    },
    {
      "cell_type": "code",
      "source": [
        "obj.set_balance(1234)"
      ],
      "metadata": {
        "id": "oSNnK971um8u"
      },
      "execution_count": null,
      "outputs": []
    },
    {
      "cell_type": "code",
      "source": [
        "obj.cheak_balance()"
      ],
      "metadata": {
        "id": "o86HeKafu9aM"
      },
      "execution_count": null,
      "outputs": []
    },
    {
      "cell_type": "markdown",
      "source": [
        "***Aggrigation***"
      ],
      "metadata": {
        "id": "Zo81WDM_AskB"
      }
    },
    {
      "cell_type": "code",
      "source": [
        "class Customer():\n",
        "  def __init__(self):\n",
        "    self.name = input(\n",
        "        \"\"\"\n",
        "        If you Want to know your address then\n",
        "        please enter your name :\n",
        "        \"\"\"\n",
        "    )\n",
        "    self.gender = input(\"Enter your Gender : \")\n",
        "    self.__address = Address()\n",
        "\n",
        "    if(self.name == \"Saeed\" and self.gender == \"Male\"):\n",
        "          print(f\"Name : {self.name} , Gender : {self.gender} , Address : {self.__address.get_city()} , {self.__address.pincode} , {self.__address.country}\")\n",
        "    else:\n",
        "        print(\"Invalid information\")\n",
        "\n",
        "\n",
        "class Address:\n",
        "  def __init__(self):\n",
        "    self.__city = \"Dhaka\"\n",
        "    self.pincode = \"1230\"\n",
        "    self.country = \"Bangladesh\"\n",
        "\n",
        "  def get_city(self):\n",
        "    return self.__city"
      ],
      "metadata": {
        "id": "TPIptQ9S2jFy"
      },
      "execution_count": null,
      "outputs": []
    },
    {
      "cell_type": "code",
      "source": [
        "obj = Customer()"
      ],
      "metadata": {
        "id": "olm67tgNBntJ"
      },
      "execution_count": null,
      "outputs": []
    },
    {
      "cell_type": "markdown",
      "source": [
        "## Encapsulation\n",
        "\n",
        "  Encapsulation is one of the four core principles of Object-Oriented Programming (OOP), along with Abstraction, Inheritance, and Polymorphism.\n",
        "\n",
        "  Encapsulation is the concept of hiding the internal state (data) of an object and only exposing a controlled interface to interact with it.\n",
        "\n",
        "  Simply, This protects the internal data from being accessed or modified directly and accidentally.\n",
        "\n",
        "  Controlling access using access modifiers:\n",
        "\n",
        "Public (`name`)\n",
        "\n",
        "Protected (`_name`)\n",
        "\n",
        "Private (`__name`)\n",
        "\n",
        "Using getter/setter methods to manage data safely."
      ],
      "metadata": {
        "id": "qHdCXGERv1Yx"
      }
    },
    {
      "cell_type": "markdown",
      "source": [
        "### Gatter and setter method:\n",
        "\n",
        "  Getter and Setter methods are part of Encapsulation, used to access and update private attributes of a class safely and in a controlled way.\n",
        "\n",
        "  + Why Use Them?\n",
        "\n",
        "    + Protect private data from direct modification.\n",
        "\n",
        "    + Add validation logic before changing values.\n",
        "\n",
        "    + Separate internal data from external access."
      ],
      "metadata": {
        "id": "m5jgmNsaw9yN"
      }
    },
    {
      "cell_type": "code",
      "source": [
        "class BankAccount:\n",
        "    def __init__(self):\n",
        "        self.__balance = 60000  # Private variable\n",
        "        self.__pin = 2345\n",
        "\n",
        "    def deposit(self, amount):\n",
        "        user_pin = int(input(\"Enter your pin : \"))\n",
        "        if amount > 0 and user_pin == self.__pin:\n",
        "            self.__balance += amount\n",
        "\n",
        "    def get_balance(self):\n",
        "      user_pin = int(input(\"Enter your pin : \"))\n",
        "      if user_pin == self.__pin:\n",
        "        return self.__balance\n",
        "\n",
        "    def set_balance(self):\n",
        "      user_pin = int(input(\"Enter your pin : \"))\n",
        "      if user_pin == self.__pin:\n",
        "        self.__balance = int(input(\"Enter your balance : \"))"
      ],
      "metadata": {
        "id": "sz_pB14103mx"
      },
      "execution_count": null,
      "outputs": []
    },
    {
      "cell_type": "code",
      "source": [
        "p1 = BankAccount()"
      ],
      "metadata": {
        "id": "v9zN2IB93BYd"
      },
      "execution_count": null,
      "outputs": []
    },
    {
      "cell_type": "code",
      "source": [
        "print(p1.get_balance())  # ✅ Output: 1500\n",
        "# print(account.__balance)    # ❌ Error: can't access private attribute\n"
      ],
      "metadata": {
        "colab": {
          "base_uri": "https://localhost:8080/"
        },
        "id": "wERnKBUV06rV",
        "outputId": "21ba9ada-f8e7-4086-d21a-9884f3148819"
      },
      "execution_count": null,
      "outputs": [
        {
          "output_type": "stream",
          "name": "stdout",
          "text": [
            "Enter your pin : 2345\n",
            "60000\n"
          ]
        }
      ]
    },
    {
      "cell_type": "code",
      "source": [
        "p1.deposit(10000)"
      ],
      "metadata": {
        "colab": {
          "base_uri": "https://localhost:8080/"
        },
        "id": "S8GrMEUk06pJ",
        "outputId": "f3b83ca5-e56f-4f22-d262-b99198cba35d"
      },
      "execution_count": null,
      "outputs": [
        {
          "name": "stdout",
          "output_type": "stream",
          "text": [
            "Enter your pin : 2345\n"
          ]
        }
      ]
    },
    {
      "cell_type": "code",
      "source": [
        "p1.get_balance()"
      ],
      "metadata": {
        "colab": {
          "base_uri": "https://localhost:8080/"
        },
        "id": "4EIeNLqi2mkU",
        "outputId": "38b04677-a12a-4664-e154-37e48ac71195"
      },
      "execution_count": null,
      "outputs": [
        {
          "name": "stdout",
          "output_type": "stream",
          "text": [
            "Enter your pin : 2345\n"
          ]
        },
        {
          "output_type": "execute_result",
          "data": {
            "text/plain": [
              "5000"
            ]
          },
          "metadata": {},
          "execution_count": 65
        }
      ]
    },
    {
      "cell_type": "code",
      "source": [
        "p1.set_balance()"
      ],
      "metadata": {
        "colab": {
          "base_uri": "https://localhost:8080/"
        },
        "id": "Yp2LKj_s2mhk",
        "outputId": "2554277a-06ca-4982-dc69-a24d76636e14"
      },
      "execution_count": null,
      "outputs": [
        {
          "name": "stdout",
          "output_type": "stream",
          "text": [
            "Enter your pin : 2345\n",
            "Enter your balance : 3333\n"
          ]
        }
      ]
    },
    {
      "cell_type": "markdown",
      "source": [
        "You're bypassing encapsulation, which defeats the purpose of making a variable private."
      ],
      "metadata": {
        "id": "nTtSWmXtX-2I"
      }
    },
    {
      "cell_type": "code",
      "source": [
        "# Accessing private variable using name mangling (not recommended)\n",
        "p1._BankAccount__balance = 5000"
      ],
      "metadata": {
        "id": "0_BVrU-42mfX"
      },
      "execution_count": null,
      "outputs": []
    },
    {
      "cell_type": "code",
      "source": [
        "print(p1.get_balance())  # ✅ Output: 5000 (value changed)"
      ],
      "metadata": {
        "id": "7ehfiX_c2mc-"
      },
      "execution_count": null,
      "outputs": []
    },
    {
      "cell_type": "code",
      "source": [
        "class BankAccount:\n",
        "  def __init__(self):\n",
        "    self.__pin = 2345\n",
        "    self.__balance = 5000\n",
        "    self.menu()\n",
        "\n",
        "  def menu(self):\n",
        "    user_input = input(\n",
        "        \"\"\"\n",
        "        Hi how can I help you ?\n",
        "        1. press 1 to cheak balance\n",
        "        2. press 2 to withdrewe\n",
        "        3. perss 3 to exit\n",
        "\n",
        "        \"\"\"\n",
        "    )\n",
        "\n",
        "    if user_input == \"1\":\n",
        "      self.cheak_balance()\n",
        "      #cheak balance\n",
        "      pass\n",
        "    elif user_input ==\"2\":\n",
        "      self.withdrewe()\n",
        "      # withdrewe\n",
        "      pass\n",
        "    else:\n",
        "      exit()\n",
        "  def cheak_balance(self):\n",
        "    user_pin = int(input(\"Enter your pin : \"))\n",
        "    if user_pin == self.__pin:\n",
        "      print(f\"your current balance is {self.__balance}\")\n",
        "    else :\n",
        "      print(\"Worng Pin\")\n",
        "    self.menu()\n"
      ],
      "metadata": {
        "id": "TZZsEjrXzMXx"
      },
      "execution_count": null,
      "outputs": []
    },
    {
      "cell_type": "code",
      "source": [
        "obj = BankAccount()"
      ],
      "metadata": {
        "colab": {
          "base_uri": "https://localhost:8080/"
        },
        "id": "QkzKMiWdzMVh",
        "outputId": "43242bc5-fd64-4b51-c578-fb5d001994d4"
      },
      "execution_count": null,
      "outputs": [
        {
          "name": "stdout",
          "output_type": "stream",
          "text": [
            "\n",
            "        Hi how can I help you ?\n",
            "        1. press 1 to cheak balance\n",
            "        2. press 2 to withdrewe\n",
            "        3. perss 3 to exit\n",
            "\n",
            "        1\n",
            "Enter your pin : 2345\n",
            "your current balance is 5000\n",
            "\n",
            "        Hi how can I help you ?\n",
            "        1. press 1 to cheak balance\n",
            "        2. press 2 to withdrewe\n",
            "        3. perss 3 to exit\n",
            "\n",
            "        3\n"
          ]
        }
      ]
    },
    {
      "cell_type": "code",
      "source": [],
      "metadata": {
        "id": "yE9waPXxzMS2"
      },
      "execution_count": null,
      "outputs": []
    },
    {
      "cell_type": "markdown",
      "source": [
        "### Collection of class object in OOP:\n",
        "\n",
        "  In Object-Oriented Programming (OOP), you often need to store multiple objects of the same class — for example, multiple students, bank accounts, or products.\n",
        "\n",
        "  This is called a collection of class objects.\n",
        "\n",
        "  + Why Use a Collection of Objects?\n",
        "   + To handle multiple instances in a structured way.\n",
        "\n",
        "   + Useful in loops, filtering, searching, and grouping.\n",
        "\n",
        "   + Makes your program scalable and clean.\n",
        "\n"
      ],
      "metadata": {
        "id": "AR1fwTCww9vh"
      }
    },
    {
      "cell_type": "code",
      "source": [
        "# Define a class named 'person'\n",
        "class person:\n",
        "    def __init__(self, name, country):\n",
        "        # Initialize instance variables\n",
        "        self.name = name\n",
        "        self.country = country"
      ],
      "metadata": {
        "id": "lYHCEPEl5Nez"
      },
      "execution_count": null,
      "outputs": []
    },
    {
      "cell_type": "code",
      "source": [
        "# Create three different instances (objects) of the 'person' class\n",
        "p1 = person(\"Saeed\", \"Bangladesh\")\n",
        "p2 = person(\"Sabbir\", \"Bangladesh\")\n",
        "p3 = person(\"Rahat\", \"Bangladesh\")"
      ],
      "metadata": {
        "id": "bkyIpYW75Ncb"
      },
      "execution_count": null,
      "outputs": []
    },
    {
      "cell_type": "code",
      "source": [
        "# Store the objects in a list — a collection of class objects\n",
        "L = [p1, p2, p3]"
      ],
      "metadata": {
        "id": "Q5hCAHNP5NaD"
      },
      "execution_count": null,
      "outputs": []
    },
    {
      "cell_type": "code",
      "source": [
        "# Access and print attributes of each object using list index\n",
        "print(L[0].name, L[0].country)  # Output: Saeed Bangladesh\n",
        "print(L[1].name, L[1].country)  # Output: Sabbir Bangladesh\n",
        "print(L[2].name, L[2].country)  # Output: Rahat Bangladesh"
      ],
      "metadata": {
        "colab": {
          "base_uri": "https://localhost:8080/"
        },
        "id": "hjuAGsgO5NX2",
        "outputId": "53c6f9fb-d997-4036-eb9a-5844882740a6"
      },
      "execution_count": null,
      "outputs": [
        {
          "output_type": "stream",
          "name": "stdout",
          "text": [
            "Saeed Bangladesh\n",
            "Sabbir Bangladesh\n",
            "Rahat Bangladesh\n"
          ]
        }
      ]
    },
    {
      "cell_type": "code",
      "source": [
        "# Use a loop to iterate through the list and print each object's data\n",
        "for i in L:\n",
        "    print(i.name, i.country)  # Output: Name and Country of each person"
      ],
      "metadata": {
        "colab": {
          "base_uri": "https://localhost:8080/"
        },
        "id": "bY_ds4v_5NVa",
        "outputId": "44c495f6-9788-45f8-e1f7-bebd4ebef967"
      },
      "execution_count": null,
      "outputs": [
        {
          "output_type": "stream",
          "name": "stdout",
          "text": [
            "Saeed Bangladesh\n",
            "Sabbir Bangladesh\n",
            "Rahat Bangladesh\n"
          ]
        }
      ]
    },
    {
      "cell_type": "markdown",
      "source": [
        "### Static variable in OOP:\n",
        "\n",
        "In Object-Oriented Programming (OOP), a static variable (also called a class variable) is a variable that is shared among all objects of a class.\n",
        "\n",
        "Unlike instance variables (which are unique to each object), static variables are common to all instances of a class.\n",
        "\n"
      ],
      "metadata": {
        "id": "2HBuZu4tw9Wh"
      }
    },
    {
      "cell_type": "code",
      "source": [
        "class student:\n",
        "\n",
        "  # Static variable shared by all instances\n",
        "  school_name = \"Shahjalal University\"\n",
        "\n",
        "  def __init__(self,name):\n",
        "    self.name = name     # Instance variable\n"
      ],
      "metadata": {
        "id": "8qkyV4QbUpG4"
      },
      "execution_count": null,
      "outputs": []
    },
    {
      "cell_type": "code",
      "source": [
        "s1 = student(\"Saeed\")\n",
        "print(s1.name)\n",
        "print(s1.school_name) # Access static variable"
      ],
      "metadata": {
        "colab": {
          "base_uri": "https://localhost:8080/"
        },
        "id": "aitQ2GpNUpEw",
        "outputId": "a564699e-fd3e-47b6-e32f-aa41a5914987"
      },
      "execution_count": null,
      "outputs": [
        {
          "output_type": "stream",
          "name": "stdout",
          "text": [
            "Saeed\n",
            "Shahjalal University\n"
          ]
        }
      ]
    },
    {
      "cell_type": "code",
      "source": [
        "s2 = student(\"Sabbir\")\n",
        "print(s2.name)\n",
        "print(s2.school_name)"
      ],
      "metadata": {
        "colab": {
          "base_uri": "https://localhost:8080/"
        },
        "id": "vGWfQOhfUpCU",
        "outputId": "9392ca0a-98c9-4f7a-9065-8c5863d981ef"
      },
      "execution_count": null,
      "outputs": [
        {
          "output_type": "stream",
          "name": "stdout",
          "text": [
            "Sabbir\n",
            "Shahjalal University\n"
          ]
        }
      ]
    },
    {
      "cell_type": "code",
      "source": [
        "student.school_name = \"AIUB\"  # Change static variable using class name"
      ],
      "metadata": {
        "id": "Gf9kw_TLUo_k"
      },
      "execution_count": null,
      "outputs": []
    },
    {
      "cell_type": "code",
      "source": [
        "print(s1.school_name)  # Output: AIUB\n",
        "print(s2.school_name)  # Output: AIUB"
      ],
      "metadata": {
        "colab": {
          "base_uri": "https://localhost:8080/"
        },
        "id": "-K09XiwVUo8_",
        "outputId": "c2b4d128-ab65-4147-91df-5a51ffcc83f6"
      },
      "execution_count": null,
      "outputs": [
        {
          "output_type": "stream",
          "name": "stdout",
          "text": [
            "AIUB\n",
            "AIUB\n"
          ]
        }
      ]
    },
    {
      "cell_type": "markdown",
      "source": [
        "`s1.school_name = \"AIUB\"`           # ❌ Only affects s1\n",
        "\n",
        "\n",
        "`print(s1.school_name)`             # AIUB\n",
        "\n",
        "`print(s2.school_name)`  # \"Shahjalal University\"\n",
        "\n",
        "`Student.school_name = \"AIUB\"`  # ✅\n"
      ],
      "metadata": {
        "id": "Q-y2dZDUWYSz"
      }
    },
    {
      "cell_type": "markdown",
      "source": [
        "### Aggregation"
      ],
      "metadata": {
        "id": "QplTYGM4w9T-"
      }
    },
    {
      "cell_type": "markdown",
      "source": [
        "Aggregation is a type of association in Object-Oriented Programming where:\n",
        "\n",
        "One class contains an object of another class, but both can exist independently.\n",
        "\n",
        "Example:\n",
        "\n",
        "A Customer has an Address\n",
        "\n",
        "But an Address can exist without a Customer\n",
        "→ This is Aggregation."
      ],
      "metadata": {
        "id": "VoBRX6u2bZkW"
      }
    },
    {
      "cell_type": "code",
      "source": [
        "# Define the Address class (a separate class)\n",
        "class Address:\n",
        "    def __init__(self):\n",
        "        # Private city variable (not directly accessible)\n",
        "        self.__city = \"Dhaka\"\n",
        "        # Public variables\n",
        "        self.pincode = \"1230\"\n",
        "        self.country = \"Bangladesh\"\n",
        "\n",
        "    # Getter method to access the private city variable\n",
        "    def get_city(self):\n",
        "        return self.__city\n",
        "\n",
        "# Define the Customer class which will use the Address class (aggregation)\n",
        "class Customer():\n",
        "    def __init__(self,name,gender):\n",
        "        self.name = name\n",
        "        self.gender = gender\n",
        "\n",
        "        # Aggregation: Customer 'has an' Address\n",
        "        # Here, we create an Address object inside the Customer class\n",
        "        self.__address = Address()\n",
        "        print(f\"Name : {self.name} , Gender : {self.gender} , Address : {self.__address.get_city()} , {self.__address.pincode} , {self.__address.country}\")\n"
      ],
      "metadata": {
        "id": "juiI82FobZWo"
      },
      "execution_count": null,
      "outputs": []
    },
    {
      "cell_type": "code",
      "source": [
        "# Create a Customer object (this will automatically ask for input)\n",
        "obj = Customer(\"Saeed\",\"Male\")"
      ],
      "metadata": {
        "colab": {
          "base_uri": "https://localhost:8080/"
        },
        "id": "XuERRnC7bDX0",
        "outputId": "1f6bf810-8e6b-4b6c-a141-08ec8727f0a7"
      },
      "execution_count": null,
      "outputs": [
        {
          "output_type": "stream",
          "name": "stdout",
          "text": [
            "Name : Saeed , Gender : Male , Address : Dhaka , 1230 , Bangladesh\n"
          ]
        }
      ]
    },
    {
      "cell_type": "markdown",
      "source": [
        "## Inharitance\n",
        "\n",
        "Inheritance is a fundamental concept in Object-Oriented Programming (OOP) where one class (child or derived class) inherits the properties and behaviors (attributes and methods) of another class (parent or base class).\n",
        "\n"
      ],
      "metadata": {
        "id": "vTSqnr0hOkDb"
      }
    },
    {
      "cell_type": "code",
      "source": [
        "class user:\n",
        "  def __init__(self):\n",
        "    self.name = \"Saeed\"\n",
        "    self.gender = \"Male\"\n",
        "\n",
        "\n",
        "  def login(self):\n",
        "    print(\"Login done\")\n",
        "\n",
        "  def register(self):\n",
        "    print(\"Registetion done\")\n",
        "\n",
        "class student(user):\n",
        "  def __init__(self):\n",
        "    super().__init__()\n",
        "    rollno = 12\n",
        "\n",
        "  def enroll(self):\n",
        "    print(\"Enroll Done\")\n",
        "\n",
        "  def review(self):\n",
        "    print(\"Review Done\")\n",
        "\n",
        "class instructor(user):\n",
        "  def __init__(self):\n",
        "    print(\"ok\")\n",
        "  def create(self):\n",
        "    print(\"Create Done\")\n",
        "\n",
        "  def review(self):\n",
        "    print(\"Review Done\")\n",
        "\n",
        "  def reply(self):\n",
        "    print(\"Reply Done\")\n"
      ],
      "metadata": {
        "id": "OqMn4FOSB4Bg"
      },
      "execution_count": null,
      "outputs": []
    },
    {
      "cell_type": "code",
      "source": [
        "obj1 = student()"
      ],
      "metadata": {
        "id": "imIwGcWV1zAP"
      },
      "execution_count": null,
      "outputs": []
    },
    {
      "cell_type": "code",
      "source": [
        "obj1.name"
      ],
      "metadata": {
        "colab": {
          "base_uri": "https://localhost:8080/",
          "height": 35
        },
        "id": "kOK4OOKFGgFa",
        "outputId": "e7c43bdc-99fa-4cf6-fc32-60b0792aed9a"
      },
      "execution_count": null,
      "outputs": [
        {
          "output_type": "execute_result",
          "data": {
            "text/plain": [
              "'Saeed'"
            ],
            "application/vnd.google.colaboratory.intrinsic+json": {
              "type": "string"
            }
          },
          "metadata": {},
          "execution_count": 127
        }
      ]
    },
    {
      "cell_type": "code",
      "source": [
        "class phone:\n",
        "  def __init__(self,price,brand,camera):\n",
        "    self.price = price\n",
        "    self.brand = brand\n",
        "    self.camera = camera\n",
        "    print(\"Inside phone Constructor\")\n",
        "\n",
        "  def buy(self):\n",
        "    print(\"Buying a phone\")\n",
        "\n",
        "class smartPhone(phone):\n",
        "  pass\n",
        "\n"
      ],
      "metadata": {
        "id": "REf4IdTm5okE"
      },
      "execution_count": null,
      "outputs": []
    },
    {
      "cell_type": "code",
      "source": [
        "s = smartPhone(100000,\"Samsung\",108)\n",
        "s.buy()"
      ],
      "metadata": {
        "colab": {
          "base_uri": "https://localhost:8080/"
        },
        "id": "3N9GvS-IaBwI",
        "outputId": "dcb9f0e6-129e-478e-f34b-7b912906afe8"
      },
      "execution_count": null,
      "outputs": [
        {
          "output_type": "stream",
          "name": "stdout",
          "text": [
            "Inside phone Constructor\n",
            "Buying a phone\n"
          ]
        }
      ]
    },
    {
      "cell_type": "code",
      "source": [
        "class phone:\n",
        "  def __init__(self,price,brand,camera):\n",
        "    self.price = price\n",
        "    self.brand = brand\n",
        "    self.camera = camera\n",
        "    print(\"Inside phone Constructor\")\n",
        "\n",
        "  def buy(self):\n",
        "    print(\"Buying a phone\")\n",
        "\n",
        "class smartPhone(phone):\n",
        "  def __init__(self,price,brand,camera,os,ram):\n",
        "    super().__init__(price,brand,camera)\n",
        "    self.os = os\n",
        "    self.ram = ram\n",
        "    print(\"Inside smartPhone Constructor\")\n",
        "\n"
      ],
      "metadata": {
        "id": "pdeSl109aFc8"
      },
      "execution_count": null,
      "outputs": []
    },
    {
      "cell_type": "code",
      "source": [
        "s = smartPhone(100000,\"Samsung\",108,\"Andriond\",12)\n",
        "# s.buy()\n",
        "s.os\n",
        "s.ram"
      ],
      "metadata": {
        "colab": {
          "base_uri": "https://localhost:8080/"
        },
        "id": "pEPqcCEGa9Va",
        "outputId": "f1ae6285-e4f4-4d8d-c4a5-9a6dccb5f847"
      },
      "execution_count": null,
      "outputs": [
        {
          "output_type": "stream",
          "name": "stdout",
          "text": [
            "Inside phone Constructor\n",
            "Inside smartPhone Constructor\n"
          ]
        },
        {
          "output_type": "execute_result",
          "data": {
            "text/plain": [
              "12"
            ]
          },
          "metadata": {},
          "execution_count": 77
        }
      ]
    },
    {
      "cell_type": "markdown",
      "source": [
        "Method Overrideing:"
      ],
      "metadata": {
        "id": "UnSHI9y7cVEA"
      }
    },
    {
      "cell_type": "code",
      "source": [
        "class phone:\n",
        "  def __init__(self,price,brand,camera):\n",
        "    self.price = price\n",
        "    self.brand = brand\n",
        "    self.camera = camera\n",
        "    print(\"Inside phone Constructor\")\n",
        "\n",
        "  def buy(self):\n",
        "    print(\"Buying a phone\")\n",
        "\n",
        "class smartPhone(phone):\n",
        "    def buy(self):\n",
        "      print(\"Buying a smartPhone\")\n",
        "\n"
      ],
      "metadata": {
        "id": "5MLOsLUKcUnD"
      },
      "execution_count": null,
      "outputs": []
    },
    {
      "cell_type": "code",
      "source": [
        "s = smartPhone(100000,\"Samsung\",108)\n",
        "s.buy()"
      ],
      "metadata": {
        "colab": {
          "base_uri": "https://localhost:8080/"
        },
        "id": "Se-1yjsGbDAp",
        "outputId": "3c837704-28ec-4233-afbf-76c950cf74e3"
      },
      "execution_count": null,
      "outputs": [
        {
          "output_type": "stream",
          "name": "stdout",
          "text": [
            "Inside phone Constructor\n",
            "Buying a smartPhone\n",
            "Buying a phone\n"
          ]
        }
      ]
    },
    {
      "cell_type": "markdown",
      "source": [
        "Super Keyword for function(Method)"
      ],
      "metadata": {
        "id": "WaAcGp5xdnzL"
      }
    },
    {
      "cell_type": "code",
      "source": [
        "class phone:\n",
        "  def __init__(self,price,brand,camera):\n",
        "    self.price = price\n",
        "    self.brand = brand\n",
        "    self.camera = camera\n",
        "    print(\"Inside phone Constructor\")\n",
        "\n",
        "  def buy(self):\n",
        "    print(\"Buying a phone\")\n",
        "\n",
        "class smartPhone(phone):\n",
        "    def buy(self):\n",
        "      print(\"Buying a smartPhone\")\n",
        "      super().buy()   # If parents and child class hold same name function(Method) and you want to reach both function(Method) then you need to use this super keyword.\n",
        "\n"
      ],
      "metadata": {
        "id": "rbF__tp2drFe"
      },
      "execution_count": null,
      "outputs": []
    },
    {
      "cell_type": "code",
      "source": [
        "s = smartPhone(100000,\"Samsung\",108)\n",
        "s.buy()"
      ],
      "metadata": {
        "colab": {
          "base_uri": "https://localhost:8080/"
        },
        "id": "kWXwLtbbdvqe",
        "outputId": "442e3bbc-4b3f-4602-fb45-166e9a66e3fc"
      },
      "execution_count": null,
      "outputs": [
        {
          "output_type": "stream",
          "name": "stdout",
          "text": [
            "Inside phone Constructor\n",
            "Buying a smartPhone\n",
            "Buying a phone\n"
          ]
        }
      ]
    },
    {
      "cell_type": "markdown",
      "source": [
        "Super Keyword for Constructor"
      ],
      "metadata": {
        "id": "BVhO-iCfeswZ"
      }
    },
    {
      "cell_type": "code",
      "source": [
        "class phone:\n",
        "  def __init__(self,price,brand,camera):\n",
        "    self.price = price\n",
        "    self.brand = brand\n",
        "    self.camera = camera\n",
        "    print(\"Inside phone Constructor\")\n",
        "\n",
        "  def buy(self):\n",
        "    print(\"Buying a phone\")\n",
        "\n",
        "class smartPhone(phone):\n",
        "  def __init__(self,price,brand,camera,os,ram):\n",
        "    super().__init__(price,brand,camera)       # If child class has many variables and some of varibale need to hire from parents class then you can reach using this super keyword\n",
        "    self.os = os\n",
        "    self.ram = ram\n",
        "    print(\"Inside smartPhone Constructor\")\n",
        "\n"
      ],
      "metadata": {
        "id": "suXLFPADdxbn"
      },
      "execution_count": null,
      "outputs": []
    },
    {
      "cell_type": "code",
      "source": [
        "s = smartPhone(100000,\"Samsung\",108,\"Android\",12)"
      ],
      "metadata": {
        "colab": {
          "base_uri": "https://localhost:8080/"
        },
        "id": "mhxmlIe0e3gP",
        "outputId": "5a4c1a91-ca0b-480a-b705-6ab80a67bbc4"
      },
      "execution_count": null,
      "outputs": [
        {
          "output_type": "stream",
          "name": "stdout",
          "text": [
            "Inside phone Constructor\n",
            "Inside smartPhone Constructor\n"
          ]
        }
      ]
    },
    {
      "cell_type": "markdown",
      "source": [
        "Type of Inheritance:\n",
        "\n",
        "\n",
        "*   Single Inheritance\n",
        "*   Multilevel Inheritance\n",
        "*   Hierachical Inheritance\n",
        "*   Multiple Inheritance\n",
        "\n",
        "\n",
        "\n"
      ],
      "metadata": {
        "id": "qGBhugmzf5NQ"
      }
    },
    {
      "cell_type": "markdown",
      "source": [
        "### Multilevel Inheritance :\n",
        "  Child ----> Father ------> Grandfather\n",
        "\n",
        "Child class can excess father and grandfather class but father can only excess grandfather class."
      ],
      "metadata": {
        "id": "3WISGJqjhIbV"
      }
    },
    {
      "cell_type": "code",
      "source": [
        "# Grandfather Class\n",
        "\n",
        "class product:\n",
        "\n",
        "  def review(self):\n",
        "    print(\"Product review Done\")\n",
        "\n",
        "\n",
        "# Father Class\n",
        "\n",
        "class phone(product):\n",
        "  def __init__(self,price,brand,camera):\n",
        "    self.price = price\n",
        "    self.brand = brand\n",
        "    self.camera = camera\n",
        "    print(\"Inside phone Constructor\")\n",
        "\n",
        "  def buy(self):\n",
        "    print(\"Buying a phone\")\n",
        "\n",
        "\n",
        "# Child Class\n",
        "\n",
        "class smartPhone(phone):\n",
        "  pass"
      ],
      "metadata": {
        "id": "RsxewIXafkWP"
      },
      "execution_count": null,
      "outputs": []
    },
    {
      "cell_type": "code",
      "source": [
        "s = smartPhone(100000,\"Samsung\",108)"
      ],
      "metadata": {
        "colab": {
          "base_uri": "https://localhost:8080/"
        },
        "id": "xe_e-_GqIrsW",
        "outputId": "93e42ada-b695-49a5-d6be-967e10cff6c8"
      },
      "execution_count": null,
      "outputs": [
        {
          "output_type": "stream",
          "name": "stdout",
          "text": [
            "Inside phone Constructor\n"
          ]
        }
      ]
    },
    {
      "cell_type": "code",
      "source": [
        "s.buy()"
      ],
      "metadata": {
        "colab": {
          "base_uri": "https://localhost:8080/"
        },
        "id": "53mtfTSOIrdE",
        "outputId": "b3ff1190-fea4-4221-ff1a-6ce0383cc51d"
      },
      "execution_count": null,
      "outputs": [
        {
          "output_type": "stream",
          "name": "stdout",
          "text": [
            "Buying a phone\n"
          ]
        }
      ]
    },
    {
      "cell_type": "code",
      "source": [
        "s.review()"
      ],
      "metadata": {
        "colab": {
          "base_uri": "https://localhost:8080/"
        },
        "id": "92AUuCBqE0ch",
        "outputId": "0d7674c7-73ac-4f7e-9e1e-23355ea96082"
      },
      "execution_count": null,
      "outputs": [
        {
          "output_type": "stream",
          "name": "stdout",
          "text": [
            "Product review Done\n"
          ]
        }
      ]
    },
    {
      "cell_type": "markdown",
      "source": [
        "### Hierarchical Inheritance:\n",
        "                 ----------> Child - 1\n",
        "    Father ------|\n",
        "                 ----------> Child - 2\n",
        "                 |\n",
        "                 ----------> Child - 3\n",
        "                 |\n",
        "                 ---------->\n",
        "                 |\n",
        "                 ----------> Child - n th\n",
        "\n",
        "    That means there is only a parents but multiple child can use this parents class."
      ],
      "metadata": {
        "id": "EP6IGYtNI5R4"
      }
    },
    {
      "cell_type": "code",
      "source": [
        "# Father Class\n",
        "\n",
        "class phone(product):\n",
        "  def __init__(self,price,brand,camera):\n",
        "    self.__price = price\n",
        "    self.brand = brand\n",
        "    self.camera = camera\n",
        "    print(\"Inside phone Constructor\")\n",
        "\n",
        "  def buy(self):\n",
        "    print(\"Buying a phone\")\n",
        "\n",
        "  def get_price(self):\n",
        "    return self.__price\n",
        "\n",
        "\n",
        "# Child Class\n",
        "\n",
        "class smartPhone(phone):\n",
        "  def __init__(self,price,brand,camera):\n",
        "    super().__init__(price,brand,camera)\n",
        "\n",
        "# Child class\n",
        "\n",
        "class featurePhone(phone):\n",
        "  def __init__(self, price, brand, camera):\n",
        "    super().__init__(price, brand, camera)"
      ],
      "metadata": {
        "id": "2YNzwbBgKZix"
      },
      "execution_count": null,
      "outputs": []
    },
    {
      "cell_type": "code",
      "source": [
        "S = smartPhone(100000,\"Samsung\",108)\n",
        "S.buy()\n",
        "\n",
        "\n",
        "print(S.get_price())\n",
        "S._phone__price = 100\n",
        "print(S.get_price())"
      ],
      "metadata": {
        "colab": {
          "base_uri": "https://localhost:8080/"
        },
        "id": "HpwGh7JTKZUY",
        "outputId": "bf6ca318-e788-43f5-f836-cc3861663367"
      },
      "execution_count": null,
      "outputs": [
        {
          "output_type": "stream",
          "name": "stdout",
          "text": [
            "Inside phone Constructor\n",
            "Buying a phone\n",
            "100000\n",
            "100\n"
          ]
        }
      ]
    },
    {
      "cell_type": "code",
      "source": [
        "S = featurePhone(1000,\"Samsung\",5)\n",
        "S.buy()\n",
        "\n",
        "print(S.get_price())\n",
        "S._phone__price = 100\n",
        "print(S.get_price())"
      ],
      "metadata": {
        "colab": {
          "base_uri": "https://localhost:8080/"
        },
        "id": "uw2oDKpnKZFq",
        "outputId": "0c407b1e-2303-4ba4-b19e-a83d046b941a"
      },
      "execution_count": null,
      "outputs": [
        {
          "output_type": "stream",
          "name": "stdout",
          "text": [
            "Inside phone Constructor\n",
            "Buying a phone\n",
            "1000\n",
            "100\n"
          ]
        }
      ]
    },
    {
      "cell_type": "markdown",
      "source": [
        "### Multiple Inheritance\n",
        "\n",
        "    Parents ( Father , Mother )\n",
        "                |        |  \n",
        "                |________|\n",
        "                      |\n",
        "                      ----------> Child\n",
        "    \n",
        "    Here, Child class can use multiple parents class."
      ],
      "metadata": {
        "id": "29-Fg-fDPKd2"
      }
    },
    {
      "cell_type": "code",
      "source": [
        "# Mother Class\n",
        "\n",
        "class product:\n",
        "  def __init__(self,price):\n",
        "    self.price = price\n",
        "    print(\"Inside product Constructor\")\n",
        "\n",
        "  def review(self):\n",
        "    print(\"Product review Done\")\n",
        "\n",
        "\n",
        "# Father Class\n",
        "\n",
        "class phone:\n",
        "  def __init__(self,brand,camera):\n",
        "    self.brand = brand\n",
        "    self.camera = camera\n",
        "    print(\"Inside phone constructor\")\n",
        "\n",
        "  def buy(self):\n",
        "    print(\"Buying a phone\")\n",
        "\n",
        "# Child Class\n",
        "\n",
        "class smartPhone(phone,product):\n",
        "  def __init__(self,price,brand,camera,os,ram):\n",
        "    product.__init__(self,price)\n",
        "    phone.__init__(self,brand,camera)\n",
        "    self.os = os\n",
        "    self.ram = ram\n",
        "    print(\"Inside smartPhone Constructor\")"
      ],
      "metadata": {
        "id": "jzZesX-hPJC-"
      },
      "execution_count": null,
      "outputs": []
    },
    {
      "cell_type": "code",
      "source": [
        "S = smartPhone(100000,\"Samsung\",108,\"Android\",12)"
      ],
      "metadata": {
        "colab": {
          "base_uri": "https://localhost:8080/"
        },
        "id": "BPfnmoRYKYqt",
        "outputId": "acb1b337-36b0-4db3-f530-09dbed223d2c"
      },
      "execution_count": null,
      "outputs": [
        {
          "output_type": "stream",
          "name": "stdout",
          "text": [
            "Inside product Constructor\n",
            "Inside phone constructor\n",
            "Inside smartPhone Constructor\n"
          ]
        }
      ]
    },
    {
      "cell_type": "code",
      "source": [
        "S.buy()\n",
        "S.review()"
      ],
      "metadata": {
        "colab": {
          "base_uri": "https://localhost:8080/"
        },
        "id": "EdtA2EpPsnCb",
        "outputId": "ce9aa884-d266-4ce3-cb73-cf8d8300bca4"
      },
      "execution_count": null,
      "outputs": [
        {
          "output_type": "stream",
          "name": "stdout",
          "text": [
            "Buying a phone\n",
            "Product review Done\n"
          ]
        }
      ]
    },
    {
      "cell_type": "markdown",
      "source": [
        "## Polymorphism in OOP\n"
      ],
      "metadata": {
        "id": "sJo3Tug4CKdZ"
      }
    },
    {
      "cell_type": "code",
      "source": [
        "class Shape:\n",
        "  def area(self,l,b):\n",
        "    return l*b\n",
        "\n",
        "  def area(self,r):\n",
        "    return 3.14*r*r\n",
        "\n",
        "  def area(self,sq):\n",
        "    return sq*sq"
      ],
      "metadata": {
        "id": "bS7Puk-UCc2F"
      },
      "execution_count": null,
      "outputs": []
    },
    {
      "cell_type": "code",
      "source": [
        "S = Shape()\n",
        "S.area(20,10)"
      ],
      "metadata": {
        "id": "wMuCfe1lDkF6"
      },
      "execution_count": null,
      "outputs": []
    },
    {
      "cell_type": "code",
      "source": [
        "class shape:\n",
        "  def area(self,l,b,r,sq):\n",
        "    if r==None and sq==None:\n",
        "      return l*b\n",
        "    elif r!=None and sq==None:\n",
        "      return 3.14*r**2\n",
        "    else:\n",
        "      return sq**2"
      ],
      "metadata": {
        "id": "EzFlDl6ACxDu"
      },
      "execution_count": null,
      "outputs": []
    },
    {
      "cell_type": "code",
      "source": [
        "s = shape()\n",
        "s.area(None,None,3,None)"
      ],
      "metadata": {
        "colab": {
          "base_uri": "https://localhost:8080/"
        },
        "id": "72rfPlHEGpco",
        "outputId": "41e928c6-8184-4023-83c0-55c769a3ae38"
      },
      "execution_count": null,
      "outputs": [
        {
          "output_type": "execute_result",
          "data": {
            "text/plain": [
              "28.26"
            ]
          },
          "metadata": {},
          "execution_count": 14
        }
      ]
    },
    {
      "cell_type": "code",
      "source": [
        "\"OK\"+\"Bye\""
      ],
      "metadata": {
        "colab": {
          "base_uri": "https://localhost:8080/",
          "height": 35
        },
        "id": "GFPC82-5Gp8O",
        "outputId": "4137e7e7-6f29-48dc-ccbe-b26ae0c27a61"
      },
      "execution_count": null,
      "outputs": [
        {
          "output_type": "execute_result",
          "data": {
            "text/plain": [
              "'OKBye'"
            ],
            "application/vnd.google.colaboratory.intrinsic+json": {
              "type": "string"
            }
          },
          "metadata": {},
          "execution_count": 15
        }
      ]
    },
    {
      "cell_type": "code",
      "source": [
        "4+5"
      ],
      "metadata": {
        "colab": {
          "base_uri": "https://localhost:8080/"
        },
        "id": "VkPZnZvQGpsw",
        "outputId": "0bb09e4e-7a46-4268-bb51-9d3f71ad9d51"
      },
      "execution_count": null,
      "outputs": [
        {
          "output_type": "execute_result",
          "data": {
            "text/plain": [
              "9"
            ]
          },
          "metadata": {},
          "execution_count": 16
        }
      ]
    },
    {
      "cell_type": "code",
      "source": [
        "[1,2,3]+[4,5,6]"
      ],
      "metadata": {
        "colab": {
          "base_uri": "https://localhost:8080/"
        },
        "id": "dvOEV7_sELJz",
        "outputId": "37ac7178-fa45-44ca-886e-ca4eb9cdc1e8"
      },
      "execution_count": null,
      "outputs": [
        {
          "output_type": "execute_result",
          "data": {
            "text/plain": [
              "[1, 2, 3, 4, 5, 6]"
            ]
          },
          "metadata": {},
          "execution_count": 17
        }
      ]
    },
    {
      "cell_type": "markdown",
      "source": [
        "## Abstraction in OOP"
      ],
      "metadata": {
        "id": "UgP5Q4EUG-s5"
      }
    },
    {
      "cell_type": "code",
      "source": [
        "# If you want to use abstraction you must need to define Abstract base class(ABC)\n",
        "\n",
        "from abc import ABC,abstractmethod\n",
        "\n",
        "\n",
        "# Pereants class\n",
        "class BankServer(ABC):\n",
        "  def database(self):\n",
        "    print(\"connected to database\")\n",
        "\n",
        "  @abstractmethod\n",
        "  def security(self):\n",
        "    pass\n",
        "\n",
        "  @abstractmethod\n",
        "  def login(self):\n",
        "    pass\n",
        "\n",
        "\n",
        "# Child class\n",
        "class MobileApp(BankServer):\n",
        "  def mobile_login(self):\n",
        "    print(\"Login Done\")\n",
        "\n",
        "  def security(self):\n",
        "    pass\n",
        "\n",
        "  def login(self):\n",
        "    pass"
      ],
      "metadata": {
        "id": "q07jJ1yWHEIe"
      },
      "execution_count": null,
      "outputs": []
    },
    {
      "cell_type": "code",
      "source": [
        "mobile = MobileApp()"
      ],
      "metadata": {
        "id": "Tg3woI-LI-tk"
      },
      "execution_count": null,
      "outputs": []
    },
    {
      "cell_type": "code",
      "source": [],
      "metadata": {
        "id": "ivJN7z3OI-j1"
      },
      "execution_count": null,
      "outputs": []
    },
    {
      "cell_type": "markdown",
      "source": [],
      "metadata": {
        "id": "WQyHBu8ae4kx"
      }
    },
    {
      "cell_type": "code",
      "source": [],
      "metadata": {
        "id": "Yn8lQAL-I-HG"
      },
      "execution_count": null,
      "outputs": []
    },
    {
      "cell_type": "markdown",
      "source": [
        "### Practice"
      ],
      "metadata": {
        "id": "ICQ3V0aisxur"
      }
    },
    {
      "cell_type": "code",
      "source": [],
      "metadata": {
        "id": "OVYuBFwQDiIc"
      },
      "execution_count": null,
      "outputs": []
    },
    {
      "cell_type": "code",
      "source": [
        "# Grandfather Class\n",
        "\n",
        "class product:\n",
        "  def __init__(self,price):\n",
        "    self.price = price\n",
        "    print(\"Inside product Constructor\")\n",
        "\n",
        "  def review(self):\n",
        "    print(\"Product review Done\")\n",
        "\n",
        "  def buy(self):\n",
        "    print(\"Buying a product\")\n",
        "\n",
        "\n",
        "# Father Class\n",
        "\n",
        "class phone(product):\n",
        "  def __init__(self,price,brand,camera):\n",
        "    super().__init__(price)\n",
        "    self.brand = brand\n",
        "    self.camera = camera\n",
        "    print(\"Inside phone Constructor\")\n",
        "\n",
        "  def buy(self):\n",
        "    print(\"Buying a phone\")\n",
        "    super().buy()\n",
        "\n",
        "\n",
        "# Child Class\n",
        "\n",
        "class smartPhone(phone):\n",
        "  def __init__(self,price,brand,camera,os,ram):\n",
        "    super().__init__(price,brand,camera)\n",
        "    self.os = os\n",
        "    self.ram = ram\n",
        "    print(\"Inside smartPhone Constructor\")\n",
        "\n",
        "  def buy(self):\n",
        "    print(\"Buying a smartPhone\")\n",
        "    super().buy()"
      ],
      "metadata": {
        "id": "P73qVoI0E2Q3"
      },
      "execution_count": null,
      "outputs": []
    },
    {
      "cell_type": "code",
      "source": [
        "s = smartPhone(100000,\"Samsung\",108,\"Android\",12)\n",
        "s.buy()\n",
        "s.review()"
      ],
      "metadata": {
        "colab": {
          "base_uri": "https://localhost:8080/"
        },
        "id": "_2JMKbT8HkGp",
        "outputId": "06f933c9-2d5b-48c8-91d5-6d625a95a15c"
      },
      "execution_count": null,
      "outputs": [
        {
          "output_type": "stream",
          "name": "stdout",
          "text": [
            "Inside product Constructor\n",
            "Inside phone Constructor\n",
            "Inside smartPhone Constructor\n",
            "Buying a smartPhone\n",
            "Buying a phone\n",
            "Buying a product\n",
            "Product review Done\n"
          ]
        }
      ]
    }
  ],
  "metadata": {
    "colab": {
      "provenance": [],
      "collapsed_sections": [
        "qHdCXGERv1Yx",
        "m5jgmNsaw9yN",
        "AR1fwTCww9vh",
        "2HBuZu4tw9Wh",
        "QplTYGM4w9T-"
      ],
      "include_colab_link": true
    },
    "kernelspec": {
      "display_name": "Python 3",
      "name": "python3"
    }
  },
  "nbformat": 4,
  "nbformat_minor": 0
}